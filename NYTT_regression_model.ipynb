{
 "cells": [
  {
   "cell_type": "markdown",
   "metadata": {},
   "source": [
    "# NEY-YORK TAXI TIPS - Régression linéaire"
   ]
  },
  {
   "cell_type": "markdown",
   "metadata": {},
   "source": [
    "Dans cette partie, nous allons implémenter les différents modèles de régressions de notre étude."
   ]
  },
  {
   "cell_type": "code",
   "execution_count": 3,
   "metadata": {},
   "outputs": [],
   "source": [
    "import os\n",
    "import numpy as np\n",
    "import pandas as pd\n",
    "import matplotlib.pyplot as plt\n",
    "import seaborn as sns\n",
    "from sklearn.metrics import r2_score\n",
    "from sklearn.model_selection import train_test_split\n",
    "from sklearn.linear_model import LinearRegression\n",
    "import statsmodels.api as sm"
   ]
  },
  {
   "cell_type": "code",
   "execution_count": 4,
   "metadata": {},
   "outputs": [],
   "source": [
    "_REP_PATH_ = os.getcwd()"
   ]
  },
  {
   "cell_type": "code",
   "execution_count": 5,
   "metadata": {},
   "outputs": [],
   "source": [
    "# fonction d'extraction des données vers un fichier .parquet\n",
    "_REP_OUT_PATH_ = _REP_PATH_ + '/output/'\n",
    "\n",
    "def export_to_parquet(filename, Y_pred):\n",
    "    \n",
    "    reg_df = pd.DataFrame(np.arange(len(Y_pred), dtype = int).T, columns  = [\"row_ID\"])\n",
    "    reg_df[\"tip_amount\"] = Y_pred\n",
    "\n",
    "    reg_df.to_parquet(_REP_OUT_PATH_ + filename)"
   ]
  },
  {
   "cell_type": "code",
   "execution_count": 6,
   "metadata": {},
   "outputs": [
    {
     "data": {
      "text/html": [
       "<div>\n",
       "<style scoped>\n",
       "    .dataframe tbody tr th:only-of-type {\n",
       "        vertical-align: middle;\n",
       "    }\n",
       "\n",
       "    .dataframe tbody tr th {\n",
       "        vertical-align: top;\n",
       "    }\n",
       "\n",
       "    .dataframe thead th {\n",
       "        text-align: right;\n",
       "    }\n",
       "</style>\n",
       "<table border=\"1\" class=\"dataframe\">\n",
       "  <thead>\n",
       "    <tr style=\"text-align: right;\">\n",
       "      <th></th>\n",
       "      <th>passenger_count</th>\n",
       "      <th>trip_distance</th>\n",
       "      <th>RatecodeID</th>\n",
       "      <th>store_and_fwd_flag</th>\n",
       "      <th>payment_type</th>\n",
       "      <th>fare_amount</th>\n",
       "      <th>extra</th>\n",
       "      <th>mta_tax</th>\n",
       "      <th>tip_amount</th>\n",
       "      <th>tolls_amount</th>\n",
       "      <th>...</th>\n",
       "      <th>PU_location_lat</th>\n",
       "      <th>PU_location_lon</th>\n",
       "      <th>DO_location_lat</th>\n",
       "      <th>DO_location_lon</th>\n",
       "      <th>pickup_day</th>\n",
       "      <th>dropoff_day</th>\n",
       "      <th>pickup_hour</th>\n",
       "      <th>dropoff_hour</th>\n",
       "      <th>journey_time</th>\n",
       "      <th>pickup_period_encoded</th>\n",
       "    </tr>\n",
       "  </thead>\n",
       "  <tbody>\n",
       "    <tr>\n",
       "      <th>0</th>\n",
       "      <td>1.0</td>\n",
       "      <td>3.30</td>\n",
       "      <td>1.0</td>\n",
       "      <td>0</td>\n",
       "      <td>1</td>\n",
       "      <td>19.1</td>\n",
       "      <td>3.5</td>\n",
       "      <td>0.5</td>\n",
       "      <td>4.80</td>\n",
       "      <td>0.0</td>\n",
       "      <td>...</td>\n",
       "      <td>40.734576</td>\n",
       "      <td>-74.002875</td>\n",
       "      <td>40.768615</td>\n",
       "      <td>-73.965635</td>\n",
       "      <td>15</td>\n",
       "      <td>15</td>\n",
       "      <td>20.616667</td>\n",
       "      <td>20.933333</td>\n",
       "      <td>1155.0</td>\n",
       "      <td>3</td>\n",
       "    </tr>\n",
       "    <tr>\n",
       "      <th>1</th>\n",
       "      <td>1.0</td>\n",
       "      <td>0.72</td>\n",
       "      <td>1.0</td>\n",
       "      <td>0</td>\n",
       "      <td>1</td>\n",
       "      <td>5.8</td>\n",
       "      <td>2.5</td>\n",
       "      <td>0.5</td>\n",
       "      <td>2.46</td>\n",
       "      <td>0.0</td>\n",
       "      <td>...</td>\n",
       "      <td>40.768615</td>\n",
       "      <td>-73.965635</td>\n",
       "      <td>40.780436</td>\n",
       "      <td>-73.957012</td>\n",
       "      <td>25</td>\n",
       "      <td>25</td>\n",
       "      <td>19.683333</td>\n",
       "      <td>19.733333</td>\n",
       "      <td>198.0</td>\n",
       "      <td>2</td>\n",
       "    </tr>\n",
       "    <tr>\n",
       "      <th>2</th>\n",
       "      <td>2.0</td>\n",
       "      <td>7.45</td>\n",
       "      <td>1.0</td>\n",
       "      <td>0</td>\n",
       "      <td>1</td>\n",
       "      <td>38.7</td>\n",
       "      <td>0.0</td>\n",
       "      <td>0.5</td>\n",
       "      <td>3.00</td>\n",
       "      <td>0.0</td>\n",
       "      <td>...</td>\n",
       "      <td>40.717773</td>\n",
       "      <td>-74.007880</td>\n",
       "      <td>40.780436</td>\n",
       "      <td>-73.957012</td>\n",
       "      <td>25</td>\n",
       "      <td>25</td>\n",
       "      <td>15.800000</td>\n",
       "      <td>16.400000</td>\n",
       "      <td>2135.0</td>\n",
       "      <td>1</td>\n",
       "    </tr>\n",
       "    <tr>\n",
       "      <th>3</th>\n",
       "      <td>1.0</td>\n",
       "      <td>1.53</td>\n",
       "      <td>1.0</td>\n",
       "      <td>0</td>\n",
       "      <td>1</td>\n",
       "      <td>10.0</td>\n",
       "      <td>1.0</td>\n",
       "      <td>0.5</td>\n",
       "      <td>2.25</td>\n",
       "      <td>0.0</td>\n",
       "      <td>...</td>\n",
       "      <td>40.720889</td>\n",
       "      <td>-73.996919</td>\n",
       "      <td>40.747746</td>\n",
       "      <td>-73.978492</td>\n",
       "      <td>27</td>\n",
       "      <td>27</td>\n",
       "      <td>0.783333</td>\n",
       "      <td>0.916667</td>\n",
       "      <td>509.0</td>\n",
       "      <td>4</td>\n",
       "    </tr>\n",
       "    <tr>\n",
       "      <th>4</th>\n",
       "      <td>1.0</td>\n",
       "      <td>1.53</td>\n",
       "      <td>1.0</td>\n",
       "      <td>0</td>\n",
       "      <td>1</td>\n",
       "      <td>10.0</td>\n",
       "      <td>0.0</td>\n",
       "      <td>0.5</td>\n",
       "      <td>3.50</td>\n",
       "      <td>0.0</td>\n",
       "      <td>...</td>\n",
       "      <td>40.768615</td>\n",
       "      <td>-73.965635</td>\n",
       "      <td>40.747746</td>\n",
       "      <td>-73.978492</td>\n",
       "      <td>28</td>\n",
       "      <td>28</td>\n",
       "      <td>13.233333</td>\n",
       "      <td>13.366667</td>\n",
       "      <td>488.0</td>\n",
       "      <td>1</td>\n",
       "    </tr>\n",
       "    <tr>\n",
       "      <th>...</th>\n",
       "      <td>...</td>\n",
       "      <td>...</td>\n",
       "      <td>...</td>\n",
       "      <td>...</td>\n",
       "      <td>...</td>\n",
       "      <td>...</td>\n",
       "      <td>...</td>\n",
       "      <td>...</td>\n",
       "      <td>...</td>\n",
       "      <td>...</td>\n",
       "      <td>...</td>\n",
       "      <td>...</td>\n",
       "      <td>...</td>\n",
       "      <td>...</td>\n",
       "      <td>...</td>\n",
       "      <td>...</td>\n",
       "      <td>...</td>\n",
       "      <td>...</td>\n",
       "      <td>...</td>\n",
       "      <td>...</td>\n",
       "      <td>...</td>\n",
       "    </tr>\n",
       "    <tr>\n",
       "      <th>99995</th>\n",
       "      <td>1.0</td>\n",
       "      <td>4.38</td>\n",
       "      <td>1.0</td>\n",
       "      <td>0</td>\n",
       "      <td>1</td>\n",
       "      <td>26.1</td>\n",
       "      <td>0.0</td>\n",
       "      <td>0.5</td>\n",
       "      <td>3.00</td>\n",
       "      <td>0.0</td>\n",
       "      <td>...</td>\n",
       "      <td>40.768615</td>\n",
       "      <td>-73.965635</td>\n",
       "      <td>40.718938</td>\n",
       "      <td>-73.990896</td>\n",
       "      <td>19</td>\n",
       "      <td>19</td>\n",
       "      <td>9.200000</td>\n",
       "      <td>9.633333</td>\n",
       "      <td>1555.0</td>\n",
       "      <td>0</td>\n",
       "    </tr>\n",
       "    <tr>\n",
       "      <th>99996</th>\n",
       "      <td>1.0</td>\n",
       "      <td>5.34</td>\n",
       "      <td>1.0</td>\n",
       "      <td>0</td>\n",
       "      <td>1</td>\n",
       "      <td>25.4</td>\n",
       "      <td>1.0</td>\n",
       "      <td>0.5</td>\n",
       "      <td>6.08</td>\n",
       "      <td>0.0</td>\n",
       "      <td>...</td>\n",
       "      <td>40.748497</td>\n",
       "      <td>-73.992438</td>\n",
       "      <td>40.706808</td>\n",
       "      <td>-74.007496</td>\n",
       "      <td>25</td>\n",
       "      <td>25</td>\n",
       "      <td>0.116667</td>\n",
       "      <td>0.416667</td>\n",
       "      <td>1053.0</td>\n",
       "      <td>4</td>\n",
       "    </tr>\n",
       "    <tr>\n",
       "      <th>99997</th>\n",
       "      <td>1.0</td>\n",
       "      <td>10.10</td>\n",
       "      <td>6.0</td>\n",
       "      <td>0</td>\n",
       "      <td>1</td>\n",
       "      <td>35.5</td>\n",
       "      <td>0.0</td>\n",
       "      <td>0.5</td>\n",
       "      <td>0.00</td>\n",
       "      <td>0.0</td>\n",
       "      <td>...</td>\n",
       "      <td>40.857779</td>\n",
       "      <td>-73.885867</td>\n",
       "      <td>40.773633</td>\n",
       "      <td>-73.981532</td>\n",
       "      <td>8</td>\n",
       "      <td>8</td>\n",
       "      <td>9.450000</td>\n",
       "      <td>10.016667</td>\n",
       "      <td>2069.0</td>\n",
       "      <td>0</td>\n",
       "    </tr>\n",
       "    <tr>\n",
       "      <th>99998</th>\n",
       "      <td>1.0</td>\n",
       "      <td>5.82</td>\n",
       "      <td>1.0</td>\n",
       "      <td>0</td>\n",
       "      <td>2</td>\n",
       "      <td>36.6</td>\n",
       "      <td>0.0</td>\n",
       "      <td>0.5</td>\n",
       "      <td>0.00</td>\n",
       "      <td>0.0</td>\n",
       "      <td>...</td>\n",
       "      <td>40.780436</td>\n",
       "      <td>-73.957012</td>\n",
       "      <td>40.777427</td>\n",
       "      <td>-73.905407</td>\n",
       "      <td>6</td>\n",
       "      <td>6</td>\n",
       "      <td>18.700000</td>\n",
       "      <td>19.383333</td>\n",
       "      <td>2468.0</td>\n",
       "      <td>2</td>\n",
       "    </tr>\n",
       "    <tr>\n",
       "      <th>99999</th>\n",
       "      <td>1.0</td>\n",
       "      <td>0.80</td>\n",
       "      <td>1.0</td>\n",
       "      <td>0</td>\n",
       "      <td>1</td>\n",
       "      <td>8.6</td>\n",
       "      <td>3.5</td>\n",
       "      <td>0.5</td>\n",
       "      <td>2.70</td>\n",
       "      <td>0.0</td>\n",
       "      <td>...</td>\n",
       "      <td>40.758028</td>\n",
       "      <td>-73.977698</td>\n",
       "      <td>40.768615</td>\n",
       "      <td>-73.965635</td>\n",
       "      <td>25</td>\n",
       "      <td>25</td>\n",
       "      <td>22.716667</td>\n",
       "      <td>22.866667</td>\n",
       "      <td>540.0</td>\n",
       "      <td>3</td>\n",
       "    </tr>\n",
       "  </tbody>\n",
       "</table>\n",
       "<p>100000 rows × 23 columns</p>\n",
       "</div>"
      ],
      "text/plain": [
       "       passenger_count  trip_distance  RatecodeID  store_and_fwd_flag  \\\n",
       "0                  1.0           3.30         1.0                   0   \n",
       "1                  1.0           0.72         1.0                   0   \n",
       "2                  2.0           7.45         1.0                   0   \n",
       "3                  1.0           1.53         1.0                   0   \n",
       "4                  1.0           1.53         1.0                   0   \n",
       "...                ...            ...         ...                 ...   \n",
       "99995              1.0           4.38         1.0                   0   \n",
       "99996              1.0           5.34         1.0                   0   \n",
       "99997              1.0          10.10         6.0                   0   \n",
       "99998              1.0           5.82         1.0                   0   \n",
       "99999              1.0           0.80         1.0                   0   \n",
       "\n",
       "       payment_type  fare_amount  extra  mta_tax  tip_amount  tolls_amount  \\\n",
       "0                 1         19.1    3.5      0.5        4.80           0.0   \n",
       "1                 1          5.8    2.5      0.5        2.46           0.0   \n",
       "2                 1         38.7    0.0      0.5        3.00           0.0   \n",
       "3                 1         10.0    1.0      0.5        2.25           0.0   \n",
       "4                 1         10.0    0.0      0.5        3.50           0.0   \n",
       "...             ...          ...    ...      ...         ...           ...   \n",
       "99995             1         26.1    0.0      0.5        3.00           0.0   \n",
       "99996             1         25.4    1.0      0.5        6.08           0.0   \n",
       "99997             1         35.5    0.0      0.5        0.00           0.0   \n",
       "99998             2         36.6    0.0      0.5        0.00           0.0   \n",
       "99999             1          8.6    3.5      0.5        2.70           0.0   \n",
       "\n",
       "       ...  PU_location_lat  PU_location_lon  DO_location_lat  \\\n",
       "0      ...        40.734576       -74.002875        40.768615   \n",
       "1      ...        40.768615       -73.965635        40.780436   \n",
       "2      ...        40.717773       -74.007880        40.780436   \n",
       "3      ...        40.720889       -73.996919        40.747746   \n",
       "4      ...        40.768615       -73.965635        40.747746   \n",
       "...    ...              ...              ...              ...   \n",
       "99995  ...        40.768615       -73.965635        40.718938   \n",
       "99996  ...        40.748497       -73.992438        40.706808   \n",
       "99997  ...        40.857779       -73.885867        40.773633   \n",
       "99998  ...        40.780436       -73.957012        40.777427   \n",
       "99999  ...        40.758028       -73.977698        40.768615   \n",
       "\n",
       "       DO_location_lon  pickup_day  dropoff_day  pickup_hour  dropoff_hour  \\\n",
       "0           -73.965635          15           15    20.616667     20.933333   \n",
       "1           -73.957012          25           25    19.683333     19.733333   \n",
       "2           -73.957012          25           25    15.800000     16.400000   \n",
       "3           -73.978492          27           27     0.783333      0.916667   \n",
       "4           -73.978492          28           28    13.233333     13.366667   \n",
       "...                ...         ...          ...          ...           ...   \n",
       "99995       -73.990896          19           19     9.200000      9.633333   \n",
       "99996       -74.007496          25           25     0.116667      0.416667   \n",
       "99997       -73.981532           8            8     9.450000     10.016667   \n",
       "99998       -73.905407           6            6    18.700000     19.383333   \n",
       "99999       -73.965635          25           25    22.716667     22.866667   \n",
       "\n",
       "       journey_time  pickup_period_encoded  \n",
       "0            1155.0                      3  \n",
       "1             198.0                      2  \n",
       "2            2135.0                      1  \n",
       "3             509.0                      4  \n",
       "4             488.0                      1  \n",
       "...             ...                    ...  \n",
       "99995        1555.0                      0  \n",
       "99996        1053.0                      4  \n",
       "99997        2069.0                      0  \n",
       "99998        2468.0                      2  \n",
       "99999         540.0                      3  \n",
       "\n",
       "[100000 rows x 23 columns]"
      ]
     },
     "execution_count": 6,
     "metadata": {},
     "output_type": "execute_result"
    }
   ],
   "source": [
    "# Importation des dataframes\n",
    "train_df = pd.read_csv(_REP_PATH_+'/data/train_nettoye.csv', index_col=0)\n",
    "test_df = pd.read_csv(_REP_PATH_+'/data/test_nettoye.csv', index_col=0)\n",
    "\n",
    "train_df"
   ]
  },
  {
   "cell_type": "code",
   "execution_count": 7,
   "metadata": {},
   "outputs": [
    {
     "name": "stdout",
     "output_type": "stream",
     "text": [
      "Index(['passenger_count', 'trip_distance', 'RatecodeID', 'store_and_fwd_flag',\n",
      "       'payment_type', 'fare_amount', 'extra', 'mta_tax', 'tip_amount',\n",
      "       'tolls_amount', 'improvement_surcharge', 'congestion_surcharge',\n",
      "       'Airport_fee', 'PU_location_lat', 'PU_location_lon', 'DO_location_lat',\n",
      "       'DO_location_lon', 'pickup_day', 'dropoff_day', 'pickup_hour',\n",
      "       'dropoff_hour', 'journey_time', 'pickup_period_encoded'],\n",
      "      dtype='object')\n",
      "Index(['passenger_count', 'trip_distance', 'RatecodeID', 'store_and_fwd_flag',\n",
      "       'payment_type', 'fare_amount', 'extra', 'mta_tax', 'tolls_amount',\n",
      "       'improvement_surcharge', 'congestion_surcharge', 'Airport_fee',\n",
      "       'PU_location_lat', 'PU_location_lon', 'DO_location_lat',\n",
      "       'DO_location_lon', 'pickup_day', 'dropoff_day', 'pickup_hour',\n",
      "       'dropoff_hour', 'journey_time', 'pickup_period_encoded'],\n",
      "      dtype='object')\n"
     ]
    }
   ],
   "source": [
    "print(train_df.columns)\n",
    "print(test_df.columns)"
   ]
  },
  {
   "cell_type": "markdown",
   "metadata": {},
   "source": [
    "Les deux fichiers ont bien les mêmes features, on peut donc poursuivre notre étude."
   ]
  },
  {
   "cell_type": "markdown",
   "metadata": {},
   "source": [
    "## Régression linéaire\n",
    "\n",
    "Dans notre exploration et synthèse des données, nous avons déjà constaté que la plupart des variables sont directement corrélées avec le montant du pourboire. De même, nous avons analysé l'influence de l'espace et du temps sur le montant du pourboire et découvert que cette variable est fortement affectée par ces facteurs. Cependant, en ce qui concerne l’espace, nous rencontrons le problème de changement de support, où il n’est pas possible d’agréger les points pour prédire le montant des pourboires par zones de New York. La prédiction du montant des pourboires doit être effectuée pour chaque trajet et non par zone. Nous avons déjà dérivé certaines variables comme la durée d'un trajet. \n",
    "\n",
    "Puisque l'utilisation d'un modèle spatio-temporel ne semble pas réaliste, et compte tenu de la quantité de données que nous voulons utiliser pour l'entraînement de notre modèle, nous commencerons par un modèle puissant mais simple : une régression linéaire (OLS).\n",
    "\n",
    "Dans les problèmes de régression, la réponse la plus simple est souvent la bonne. Comme nos données présentent de fortes relations linéaires, une régression OLS pourrait effectivement bien les expliquer. Si une régression OLS ne suffit pas à prédire le montant des pourboires, elle nous permettra au moins d’identifier la signification et l’importance des variables. Cela sera utile pour appliquer d'autres modèles."
   ]
  },
  {
   "cell_type": "markdown",
   "metadata": {},
   "source": [
    "### Premier modèle sur le jeu de données sans modification\n",
    "\n",
    "Ici, nous allons examiner les résultats obtenus par la régression linéaire sur le jeu de données de base. Cela nous permettra d'avoir une Baseline pour la comparaison avec d'autres méthodes plus sophistiquées."
   ]
  },
  {
   "cell_type": "code",
   "execution_count": 11,
   "metadata": {},
   "outputs": [],
   "source": [
    "train_df_baseline = pd.read_parquet(_REP_PATH_+'/data/train.parquet')\n",
    "test_df_baseline = pd.read_parquet(_REP_PATH_+'/data/test.parquet')\n",
    "\n",
    "train_df_baseline['trip_duration'] = (train_df_baseline['tpep_dropoff_datetime'] - train_df_baseline['tpep_pickup_datetime']).dt.total_seconds()\n",
    "test_df_baseline['trip_duration'] = (test_df_baseline[\"tpep_dropoff_datetime\"] - test_df_baseline[\"tpep_pickup_datetime\"]).dt.total_seconds() "
   ]
  },
  {
   "cell_type": "code",
   "execution_count": 12,
   "metadata": {},
   "outputs": [
    {
     "name": "stdout",
     "output_type": "stream",
     "text": [
      "(80000, 7)\n",
      "(20000, 7)\n",
      "(80000,)\n",
      "(20000,)\n"
     ]
    }
   ],
   "source": [
    "# Séléction d'une poignée de features\n",
    "features = [\"congestion_surcharge\", \"PU_location_lon\", \"DO_location_lon\", \"RatecodeID\", \"payment_type\", \"trip_distance\", \"PU_location_lat\"]\n",
    "\n",
    "X_train, X_test, y_train, y_test = train_test_split(train_df_baseline[features], train_df_baseline[\"tip_amount\"], test_size=0.2 , random_state=123)\n",
    "\n",
    "print(X_train.shape)\n",
    "print(X_test.shape)\n",
    "print(y_train.shape)\n",
    "print(y_test.shape)"
   ]
  },
  {
   "cell_type": "code",
   "execution_count": 13,
   "metadata": {},
   "outputs": [
    {
     "name": "stdout",
     "output_type": "stream",
     "text": [
      "Le Score r2 est 0.540586922510303\n"
     ]
    }
   ],
   "source": [
    "reg = LinearRegression().fit(X_train, y_train)\n",
    "y_pred = reg.predict(X_test)\n",
    "print(f\"Le Score r2 est {r2_score(y_test, y_pred)}\")"
   ]
  },
  {
   "cell_type": "code",
   "execution_count": 14,
   "metadata": {},
   "outputs": [
    {
     "data": {
      "image/png": "[encoded data removed]",
      "text/plain": [
       "<Figure size 600x600 with 1 Axes>"
      ]
     },
     "metadata": {},
     "output_type": "display_data"
    }
   ],
   "source": [
    "plt.figure(figsize=(6,6))\n",
    "x = np.linspace(0,max(*y_pred, *y_test))\n",
    "plt.plot(x,x, color = \"red\", label = \"regresseur optimal\")\n",
    "plt.scatter(y_pred, y_test, label = \"prédictions\")\n",
    "plt.xlabel(\"y_pred\")\n",
    "plt.ylabel(\"y_test\")\n",
    "plt.xlim(0,max(y_pred)+5)\n",
    "plt.legend()\n",
    "plt.grid(True)\n",
    "plt.show()"
   ]
  },
  {
   "cell_type": "markdown",
   "metadata": {},
   "source": [
    "La méthode de régression linéaire issue du jeu de données initial nous permet d'avoir un score $R^2$ de $0,54$ sur notre jeu de validation, ce qui indique que 54,1 % de la variance de `tip_amount` est expliquée par les variables incluses dans le modèle. Cela montre une relation modérée entre les variables explicatives et `tip_amount`.\n",
    "\n",
    " De plus le schéma ci-dessus nous montre la répartition des points $(y\\_pred, y\\_test)$ pour chaque individus de notre ensemble de validation. Nous représentons en rouge une droite de régression optimal qui à chaque montant de pourboire de l'ensemble de validation est associé le montant de pourboire ($y = x$).\n",
    "\n",
    "L'on peut remarquer sur ce graphique que :\n",
    "- Notre `Baseline` associe à la valeur 0 de nombreuses courses qui, en réalité, ont résultés par un pourboire.\n",
    "- Les valeurs prédites sont relativements concentrées autour de 7$ avec peu d'outliers."
   ]
  },
  {
   "cell_type": "code",
   "execution_count": 16,
   "metadata": {},
   "outputs": [
    {
     "name": "stdout",
     "output_type": "stream",
     "text": [
      "                            OLS Regression Results                            \n",
      "==============================================================================\n",
      "Dep. Variable:             tip_amount   R-squared:                       0.541\n",
      "Model:                            OLS   Adj. R-squared:                  0.541\n",
      "Method:                 Least Squares   F-statistic:                     3364.\n",
      "Date:                Wed, 13 Nov 2024   Prob (F-statistic):               0.00\n",
      "Time:                        10:12:29   Log-Likelihood:                -46404.\n",
      "No. Observations:               20000   AIC:                         9.282e+04\n",
      "Df Residuals:                   19992   BIC:                         9.289e+04\n",
      "Df Model:                           7                                         \n",
      "Covariance Type:            nonrobust                                         \n",
      "========================================================================================\n",
      "                           coef    std err          t      P>|t|      [0.025      0.975]\n",
      "----------------------------------------------------------------------------------------\n",
      "const                 -513.9622     57.328     -8.965      0.000    -626.330    -401.594\n",
      "congestion_surcharge     0.1676      0.037      4.593      0.000       0.096       0.239\n",
      "PU_location_lon          1.4846      0.552      2.689      0.007       0.402       2.567\n",
      "DO_location_lon         -4.4732      0.523     -8.552      0.000      -5.498      -3.448\n",
      "RatecodeID              -0.0613      0.002    -30.219      0.000      -0.065      -0.057\n",
      "payment_type            -3.0666      0.038    -80.402      0.000      -3.141      -2.992\n",
      "trip_distance            0.5742      0.006     95.802      0.000       0.562       0.586\n",
      "PU_location_lat          7.3086      0.645     11.332      0.000       6.045       8.573\n",
      "==============================================================================\n",
      "Omnibus:                     9173.466   Durbin-Watson:                   2.000\n",
      "Prob(Omnibus):                  0.000   Jarque-Bera (JB):           696737.587\n",
      "Skew:                           1.338   Prob(JB):                         0.00\n",
      "Kurtosis:                      31.791   Cond. No.                     3.70e+05\n",
      "==============================================================================\n",
      "\n",
      "Notes:\n",
      "[1] Standard Errors assume that the covariance matrix of the errors is correctly specified.\n",
      "[2] The condition number is large, 3.7e+05. This might indicate that there are\n",
      "strong multicollinearity or other numerical problems.\n"
     ]
    }
   ],
   "source": [
    "X_test_Sm= sm.add_constant(X_test)\n",
    "ls=sm.OLS(y_test,X_test_Sm).fit()\n",
    "print(ls.summary())"
   ]
  },
  {
   "cell_type": "code",
   "execution_count": 17,
   "metadata": {},
   "outputs": [
    {
     "data": {
      "text/plain": [
       "'C:\\\\Users\\\\rober\\\\NYC-taxis-tips/output/'"
      ]
     },
     "execution_count": 17,
     "metadata": {},
     "output_type": "execute_result"
    }
   ],
   "source": [
    "_REP_OUT_PATH_"
   ]
  },
  {
   "cell_type": "markdown",
   "metadata": {},
   "source": [
    "- La statistique `F` de $3364$, avec une probabilité associée de $0,00$, indique que le modèle dans son ensemble est significatif, c’est-à-dire qu'il existe une relation statistiquement significative entre les variables explicatives et tip_amount.\n",
    "\n",
    "- L'ensemble des p-valeur associées aux variables sont ptoches de 0, indiquant que les coefficients obtenus sont statistiquement significatifs.\n",
    "\n",
    "De plus, les coefficients des variables nous permettent de dire :\n",
    "- `const (intercept)`: La constante est de -513.96. Cela suggère que, sans effet des variables explicatives, la valeur moyenne du pourboire serait théoriquement négative, ce qui n’est pas logique en pratique. Cela peut indiquer la nécessité de revoir certaines hypothèses du modèle ou des données.\n",
    "\n",
    "De plus, l'ensemble des autres coefficients sont très significatifs (p-valeur proche de 0). Le coefficient associé au type de paiement est négatif, le mode de paiement a une forte influence négative sur le pourboire, peut-être indiquant un biais lié au type de paiement, tandis que `PU_location_lat` à un coefficient de 7.3086, ce qui indique une forte association positive entre la latitude du lieu de prise en charge et le pourboire.\n",
    "\n",
    "- `Durbin-Watson`: La statistique de Durbin-Watson est proche de 2, indiquant que les résidus sont indépendants (pas de corrélation sérieuse entre eux).\n",
    "- `Omnibus, Prob(Omnibus), Jarque-Bera (JB)`: Ces tests montrent que les résidus ne suivent pas une distribution normale (p-valeurs très faibles), ce qui peut indiquer des problèmes d’ajustement ou la présence de valeurs extrêmes (forte kurtosis de 31.791).\n",
    "\n",
    "- `Cond. No (Condition Number)` : À 3.70e+05, le nombre de condition est élevé, ce qui indique une colinéarité parmi les variables explicatives, un potentiel problème pour la stabilité des coefficients.\n"
   ]
  },
  {
   "cell_type": "code",
   "execution_count": 19,
   "metadata": {},
   "outputs": [],
   "source": [
    "reg = LinearRegression().fit(train_df_baseline[features], train_df_baseline[\"tip_amount\"])\n",
    "y_pred = reg.predict(test_df_baseline[features])\n",
    "\n",
    "export_to_parquet(\"linear_regression_1.parquet\", Y_pred = y_pred)"
   ]
  },
  {
   "cell_type": "markdown",
   "metadata": {},
   "source": [
    "Après avoir utilisé notre modèle de régression linéaire sur un ensemble de validation, nous l'appliquons à notre ensemble de test. Le score $R^2$ observé sur Kaggle est de $0,57$, montrant une légère amélioration par rapport à l'ensemble de validation."
   ]
  },
  {
   "cell_type": "markdown",
   "metadata": {},
   "source": [
    "### Régression linéaire sur notre nouveau jeu de données\n",
    "\n",
    "Nous examinons maintenant le score obtenu par une régression linéaire sur le nouveau jeu de données obtenu après l'analyse de données."
   ]
  },
  {
   "cell_type": "markdown",
   "metadata": {},
   "source": [
    "#### Sélection des features\n",
    "\n",
    "Ici, nous sélectionnons des features qui semblent intéressantes, d'après l'étude des données, pour une régression linéaire (en excluant certaines variables catégorielles)."
   ]
  },
  {
   "cell_type": "code",
   "execution_count": 23,
   "metadata": {},
   "outputs": [],
   "source": [
    "# On séléctionne l'ensemble des features sauf \"RatecodeID\", \"store_and_fwd_flag\", \"payment_type\"\n",
    "\n",
    "reg_train_df = train_df.drop(columns= [\"RatecodeID\", \"store_and_fwd_flag\", \"payment_type\"])\n",
    "reg_test_df = test_df.drop(columns= [\"RatecodeID\", \"store_and_fwd_flag\", \"payment_type\"])"
   ]
  },
  {
   "cell_type": "markdown",
   "metadata": {},
   "source": [
    "#### On divise le jeu de données"
   ]
  },
  {
   "cell_type": "code",
   "execution_count": 25,
   "metadata": {},
   "outputs": [],
   "source": [
    "X = reg_train_df.drop(columns= [\"tip_amount\"])\n",
    "y = reg_train_df[\"tip_amount\"]"
   ]
  },
  {
   "cell_type": "code",
   "execution_count": 26,
   "metadata": {},
   "outputs": [
    {
     "name": "stdout",
     "output_type": "stream",
     "text": [
      "(80000, 19)\n",
      "(20000, 19)\n",
      "(80000,)\n",
      "(20000,)\n"
     ]
    }
   ],
   "source": [
    "X_train, X_test, y_train, y_test = train_test_split(X, y, test_size=0.2 , random_state=123)\n",
    "\n",
    "print(X_train.shape)\n",
    "print(X_test.shape)\n",
    "print(y_train.shape)\n",
    "print(y_test.shape)"
   ]
  },
  {
   "cell_type": "markdown",
   "metadata": {},
   "source": [
    "#### Définition du modèle de régression linéaire"
   ]
  },
  {
   "cell_type": "code",
   "execution_count": 28,
   "metadata": {},
   "outputs": [
    {
     "name": "stdout",
     "output_type": "stream",
     "text": [
      "Score R2 avec SelectKBest : 0.44067192694892654\n",
      "Features sélectionnées : Index(['passenger_count', 'trip_distance', 'fare_amount', 'extra', 'mta_tax',\n",
      "       'tolls_amount', 'congestion_surcharge', 'Airport_fee',\n",
      "       'PU_location_lat', 'PU_location_lon', 'DO_location_lat',\n",
      "       'DO_location_lon', 'dropoff_day', 'pickup_hour', 'dropoff_hour',\n",
      "       'journey_time', 'pickup_period_encoded'],\n",
      "      dtype='object')\n"
     ]
    }
   ],
   "source": [
    "from sklearn.feature_selection import SelectKBest, f_regression\n",
    "\n",
    "# Sélectionne les k meilleures features en fonction de la corrélation\n",
    "selector = SelectKBest(score_func=f_regression, k=17)\n",
    "X_train_selected = selector.fit_transform(X_train, y_train)\n",
    "X_test_selected = selector.transform(X_test)\n",
    "\n",
    "# Régression linéaire sur les features sélectionnées\n",
    "model = LinearRegression()\n",
    "model.fit(X_train_selected, y_train)\n",
    "y_pred = model.predict(X_test_selected)\n",
    "score_r2 = r2_score(y_test, y_pred)\n",
    "\n",
    "print(\"Score R2 avec SelectKBest :\", score_r2)\n",
    "print(\"Features sélectionnées :\", X.columns[selector.get_support()])"
   ]
  },
  {
   "cell_type": "code",
   "execution_count": 29,
   "metadata": {},
   "outputs": [
    {
     "name": "stdout",
     "output_type": "stream",
     "text": [
      "                            OLS Regression Results                            \n",
      "==============================================================================\n",
      "Dep. Variable:             tip_amount   R-squared:                       0.443\n",
      "Model:                            OLS   Adj. R-squared:                  0.442\n",
      "Method:                 Least Squares   F-statistic:                     934.2\n",
      "Date:                Wed, 13 Nov 2024   Prob (F-statistic):               0.00\n",
      "Time:                        10:12:30   Log-Likelihood:                -48339.\n",
      "No. Observations:               20000   AIC:                         9.671e+04\n",
      "Df Residuals:                   19982   BIC:                         9.686e+04\n",
      "Df Model:                          17                                         \n",
      "Covariance Type:            nonrobust                                         \n",
      "==============================================================================\n",
      "                 coef    std err          t      P>|t|      [0.025      0.975]\n",
      "------------------------------------------------------------------------------\n",
      "const       -997.2220     85.401    -11.677      0.000   -1164.616    -829.829\n",
      "x1            -0.0537      0.023     -2.321      0.020      -0.099      -0.008\n",
      "x2            -0.0109      0.017     -0.637      0.524      -0.044       0.023\n",
      "x3             0.1318      0.004     31.419      0.000       0.124       0.140\n",
      "x4             0.1059      0.013      8.206      0.000       0.081       0.131\n",
      "x5            -1.8493      0.599     -3.087      0.002      -3.023      -0.675\n",
      "x6             0.2078      0.015     14.268      0.000       0.179       0.236\n",
      "x7             0.8195      0.040     20.407      0.000       0.741       0.898\n",
      "x8             1.3226      0.092     14.402      0.000       1.143       1.503\n",
      "x9             4.7557      0.792      6.007      0.000       3.204       6.307\n",
      "x10           -5.7331      0.881     -6.504      0.000      -7.461      -4.005\n",
      "x11            3.1800      0.700      4.540      0.000       1.807       4.553\n",
      "x12           -3.3662      0.608     -5.539      0.000      -4.557      -2.175\n",
      "x13            0.0102      0.002      4.669      0.000       0.006       0.015\n",
      "x14           -0.0074      0.010     -0.770      0.441      -0.026       0.011\n",
      "x15            0.0234      0.009      2.516      0.012       0.005       0.042\n",
      "x16        -2.299e-05   8.63e-06     -2.664      0.008   -3.99e-05   -6.07e-06\n",
      "x17            0.0482      0.017      2.764      0.006       0.014       0.082\n",
      "==============================================================================\n",
      "Omnibus:                     4711.207   Durbin-Watson:                   2.004\n",
      "Prob(Omnibus):                  0.000   Jarque-Bera (JB):           281387.776\n",
      "Skew:                           0.061   Prob(JB):                         0.00\n",
      "Kurtosis:                      21.375   Cond. No.                     1.11e+07\n",
      "==============================================================================\n",
      "\n",
      "Notes:\n",
      "[1] Standard Errors assume that the covariance matrix of the errors is correctly specified.\n",
      "[2] The condition number is large, 1.11e+07. This might indicate that there are\n",
      "strong multicollinearity or other numerical problems.\n"
     ]
    }
   ],
   "source": [
    "X_test_Sm= sm.add_constant(X_test_selected)\n",
    "ls=sm.OLS(y_test,X_test_Sm).fit()\n",
    "print(ls.summary())"
   ]
  },
  {
   "cell_type": "code",
   "execution_count": 30,
   "metadata": {},
   "outputs": [
    {
     "data": {
      "image/png": "[encoded data removed]",
      "text/plain": [
       "<Figure size 600x600 with 1 Axes>"
      ]
     },
     "metadata": {},
     "output_type": "display_data"
    }
   ],
   "source": [
    "plt.figure(figsize=(6,6))\n",
    "x = np.linspace(0,max(*y_pred, *y_test))\n",
    "plt.plot(x,x, color = \"red\", label = \"regresseur optimal\")\n",
    "plt.scatter(y_pred, y_test, label = \"prédictions\")\n",
    "plt.xlabel(\"y_pred\")\n",
    "plt.ylabel(\"y_test\")\n",
    "plt.xlim(0,30)\n",
    "plt.legend()\n",
    "plt.grid(True)\n",
    "plt.show()"
   ]
  },
  {
   "cell_type": "markdown",
   "metadata": {},
   "source": [
    "On observe une baisse de précision avec notre nouveau jeu de données. En effet, le meilleur score $R^2$ obtenu avec 17 features est de 0,44, soit une perte de 13 points par rapport au dataset avec les données non modifiées.\n",
    "L'ajout de nouvelles données a donc masqué davantage les relations linéaires entre les variables. Nous avons aussi ajouté de nombreuses données issues de manipulations avec le dataset initial, ce qui a sans doute induit de la multicolinéarité dans nos données."
   ]
  },
  {
   "cell_type": "code",
   "execution_count": 32,
   "metadata": {},
   "outputs": [],
   "source": [
    "export_to_parquet(\"linear_regression_2.parquet\", Y_pred = y_pred)"
   ]
  },
  {
   "cell_type": "markdown",
   "metadata": {},
   "source": [
    "Sur l'ensemble de test, la regression linéaire obtient un score de $0,41$ qui nous confirme la sous performance du modèle contre la `Baseline` issue du dataset de base."
   ]
  },
  {
   "cell_type": "markdown",
   "metadata": {},
   "source": []
  }
 ],
 "metadata": {
  "kernelspec": {
   "display_name": "Python 3 (ipykernel)",
   "language": "python",
   "name": "python3"
  },
  "language_info": {
   "codemirror_mode": {
    "name": "ipython",
    "version": 3
   },
   "file_extension": ".py",
   "mimetype": "text/x-python",
   "name": "python",
   "nbconvert_exporter": "python",
   "pygments_lexer": "ipython3",
   "version": "3.12.4"
  }
 },
 "nbformat": 4,
 "nbformat_minor": 4
}
